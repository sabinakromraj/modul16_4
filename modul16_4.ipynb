{
 "cells": [
  {
   "cell_type": "code",
   "execution_count": 1,
   "id": "79edabb2-2541-4655-a50d-aff84617b200",
   "metadata": {},
   "outputs": [],
   "source": [
    "import pandas as pd\n",
    "import numpy as np\n",
    "import matplotlib.pyplot as plt\n",
    "from sklearn.model_selection import train_test_split, cross_val_score, cross_val_predict\n",
    "from sklearn.metrics import classification_report\n",
    "from sklearn.preprocessing import StandardScaler\n",
    "from sklearn.linear_model import SGDClassifier\n",
    "from sklearn.model_selection import StratifiedKFold\n",
    "from sklearn.cluster import KMeans"
   ]
  },
  {
   "cell_type": "code",
   "execution_count": 2,
   "id": "0c368c23-e16c-4499-b154-c5bab0ab7580",
   "metadata": {},
   "outputs": [],
   "source": [
    "with open('samsung_train.txt') as file_1:\n",
    "    list_1 = [line.rstrip() for line in file_1]\n",
    "\n",
    "with open('samsung_test.txt') as file_2:\n",
    "    list_2 = [line.rstrip() for line in file_2]\n",
    "\n",
    "merged_data = list_1 + list_2\n",
    "df_data = pd.DataFrame({'data': merged_data})"
   ]
  },
  {
   "cell_type": "code",
   "execution_count": 3,
   "id": "61691f02-28cc-434c-b29d-7447af530904",
   "metadata": {},
   "outputs": [],
   "source": [
    "with open('samsung_train_labels.txt') as file_3:\n",
    "    labels_1 = [line.rstrip() for line in file_3]\n",
    "\n",
    "with open('samsung_test_labels.txt') as file_4:\n",
    "    labels_2 = [line.rstrip() for line in file_4]\n",
    "\n",
    "merged_labels = labels_1 + labels_2\n",
    "\n",
    "df_labels = pd.DataFrame({'labels': merged_labels})"
   ]
  },
  {
   "cell_type": "code",
   "execution_count": 4,
   "id": "6d0d76d0-3d8d-400d-9545-b0750de9e713",
   "metadata": {},
   "outputs": [],
   "source": [
    "dataset = pd.concat([df_data, df_labels], axis=1)\n",
    "dataset['data'] = dataset['data'].apply(lambda x: [float(value) for value in x.split()])"
   ]
  },
  {
   "cell_type": "code",
   "execution_count": 5,
   "id": "9a1fec85-a6c3-4016-ae74-96e4c2266196",
   "metadata": {},
   "outputs": [],
   "source": [
    "X, y = dataset['data'], dataset['labels']\n",
    "X = np.vstack(X.values)"
   ]
  },
  {
   "cell_type": "code",
   "execution_count": 6,
   "id": "c2555f07-8035-42e9-9a2e-d41e84dd9292",
   "metadata": {},
   "outputs": [],
   "source": [
    "X_train, X_test, y_train, y_test = train_test_split(X, y, test_size=0.3, random_state=1, stratify=y)\n",
    "\n",
    "scaler = StandardScaler()\n",
    "X_train = scaler.fit_transform(X_train)\n",
    "X_test = scaler.transform(X_test)"
   ]
  },
  {
   "cell_type": "code",
   "execution_count": 7,
   "id": "f02dd616-bcb4-406f-b1d5-b7c6040b1d45",
   "metadata": {},
   "outputs": [
    {
     "name": "stdout",
     "output_type": "stream",
     "text": [
      "Pojedynczy wynik:  0.9754045307443365\n"
     ]
    }
   ],
   "source": [
    "clf = SGDClassifier()\n",
    "\n",
    "clf.fit(X_train, y_train)\n",
    "score = clf.score(X_test, y_test)\n",
    "print(\"Pojedynczy wynik: \", score)"
   ]
  },
  {
   "cell_type": "code",
   "execution_count": 8,
   "id": "858d12be-4cf9-4bee-966b-b80305cee1cc",
   "metadata": {},
   "outputs": [
    {
     "name": "stdout",
     "output_type": "stream",
     "text": [
      "wynik kroswalidacji:  [0.95097087 0.91990291 0.96893204 0.96067961 0.97183099]\n",
      "średni wynik wszystkich foldów:  0.9544632845617393\n"
     ]
    }
   ],
   "source": [
    "cv_score = cross_val_score(clf, X, y, cv=5)\n",
    "print(\"wynik kroswalidacji: \", cv_score)\n",
    "print(\"średni wynik wszystkich foldów: \", cv_score.mean())"
   ]
  },
  {
   "cell_type": "code",
   "execution_count": 9,
   "id": "a8d67ef3-de6b-4ae0-8688-d783c2ca92f5",
   "metadata": {},
   "outputs": [
    {
     "name": "stdout",
     "output_type": "stream",
     "text": [
      "wyniki poszczególnych foldów:  [0.9791262135922331, 0.9781553398058253, 0.9713592233009709, 0.9786407766990292, 0.9771733851384167]\n",
      "średni wynik wszystkich foldów:  0.976890987707295\n"
     ]
    }
   ],
   "source": [
    "skf = StratifiedKFold(n_splits=5, shuffle=True, random_state=1)\n",
    "\n",
    "models = []\n",
    "scores = []\n",
    "\n",
    "for fold_nr, (train_idx, test_idx) in enumerate(skf.split(X, y)):\n",
    "    X_train = X[train_idx]\n",
    "    X_test =X[test_idx]\n",
    "\n",
    "    y_train = y[train_idx]\n",
    "    y_test = y[test_idx]\n",
    "\n",
    "    X_train = scaler.fit_transform(X_train)\n",
    "    X_test = scaler.transform(X_test)\n",
    "  \n",
    "    clf = SGDClassifier(random_state=1).fit(X_train, y_train)\n",
    "\n",
    "    models.append(clf)\n",
    "    scores.append(clf.score(X_test, y_test))\n",
    "\n",
    "\n",
    "print(\"wyniki poszczególnych foldów: \", scores)\n",
    "print(\"średni wynik wszystkich foldów: \", np.array(scores).mean())"
   ]
  }
 ],
 "metadata": {
  "kernelspec": {
   "display_name": "Python 3 (ipykernel)",
   "language": "python",
   "name": "python3"
  },
  "language_info": {
   "codemirror_mode": {
    "name": "ipython",
    "version": 3
   },
   "file_extension": ".py",
   "mimetype": "text/x-python",
   "name": "python",
   "nbconvert_exporter": "python",
   "pygments_lexer": "ipython3",
   "version": "3.11.6"
  }
 },
 "nbformat": 4,
 "nbformat_minor": 5
}
